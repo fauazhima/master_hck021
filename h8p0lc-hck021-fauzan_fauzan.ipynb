{
 "cells": [
  {
   "cell_type": "markdown",
   "metadata": {},
   "source": [
    "# Live Code Simulation 1\n",
    "---"
   ]
  },
  {
   "cell_type": "markdown",
   "metadata": {},
   "source": [
    "## Perkenalan\n",
    "- Nama: Fauzan Azhima Achmad\n",
    "- Batch: HCK-021\n",
    "\n",
    "data = [[nama1, kategori1, harga1], [nama2, kategori2, harga2], [nama3, kategori3, harga3]]\n"
   ]
  },
  {
   "cell_type": "markdown",
   "metadata": {},
   "source": [
    "---\n",
    "## Answer"
   ]
  },
  {
   "cell_type": "code",
   "execution_count": 41,
   "metadata": {},
   "outputs": [
    {
     "name": "stdout",
     "output_type": "stream",
     "text": [
      "==================================================\n",
      "Program Inventory Management\n",
      "==================================================\n",
      "\n",
      "Menu:\n",
      "1. Input Data\n",
      "2. Menampilkan Data\n",
      "\n",
      "Pilih menu atau keluar:  \n",
      "\n",
      "==================================================\n",
      "Data Inventory\n",
      "==================================================\n",
      "Tidak ada makanan di inventory...\n",
      "==================================================\n",
      "Program Inventory Management\n",
      "==================================================\n",
      "\n",
      "Menu:\n",
      "1. Input Data\n",
      "2. Menampilkan Data\n",
      "\n",
      "Pilih menu atau keluar:  \n",
      "\n",
      "==================================================\n",
      "Data Inventory\n",
      "==================================================\n"
     ]
    }
   ],
   "source": [
    "# Pembuatan class Inventory\n",
    "class Inventory():\n",
    "    # Pembuatan atribut nama, kategori, dan harga\n",
    "    def __init__(self, nama, harga, kategori):\n",
    "        self.nama = nama\n",
    "        self.harga = harga\n",
    "        self.kategori = kategori\n",
    "\n",
    "    def __str__(self):\n",
    "        return f\"{self.nama} | {self.harga} | {self.kategori}\"\n",
    "    \n",
    "# Pembuatan class List untuk list makanan\n",
    "class Catalog():\n",
    "    def __init__(self):\n",
    "        self.foods = [] # List kosong untuk makanan\n",
    "\n",
    "    def interface(self):\n",
    "        print(\"=\"*50)\n",
    "        print(\"Program Inventory Management\")\n",
    "        print(\"=\"*50)\n",
    "\n",
    "        print(\"\"\"\\nMenu:\n",
    "1. Input Data\n",
    "2. Menampilkan Data\n",
    "\"\"\")\n",
    "        print(\"Pilih menu atau keluar: \", \"\\n\")\n",
    "\n",
    "        print(\"=\"*50)\n",
    "        print(\"Data Inventory\")\n",
    "        print(\"=\"*50)\n",
    "\n",
    "    def input_food(self):\n",
    "        nama = input()\n",
    "        print(\"Masukkan nama barang :\", nama)\n",
    "        kategori = input()\n",
    "        print(\"Masukkan kategori barang :\", kategori)\n",
    "        harga = input()\n",
    "        print(\"Masukkan harga (rupiah) :\", harga) \n",
    "        self.foods.append([nama, kategori, harga])\n",
    "        print(f\"\"\"\n",
    "Terima kasih, data sudah disimpan\"\"\")\n",
    "\n",
    "    def display_food(self):\n",
    "        if not self.foods:\n",
    "            print(\"Tidak ada makanan di inventory...\")\n",
    "        else:\n",
    "            for food in self.foods:\n",
    "                print(f\"\"\"Nama barang | Kategori Barang | Harga \n",
    "{food}\"\"\")\n",
    "\n",
    "catalog = Catalog()\n",
    "\n",
    "catalog.interface()\n",
    "\n",
    "x = input(\"Pilih 1 untuk input data atau 2 untuk menampilkan data\")\n",
    "if x == \"1\":\n",
    "    catalog.input_food()\n",
    "    catalog.interface()\n",
    "elif x == \"2\":\n",
    "    catalog.display_food()\n",
    "    catalog.interface()\n",
    "else:\n",
    "    raise ValueError(\"Silahkan Pilih 1 untuk input data atau 2 untuk menampilkan data\")"
   ]
  },
  {
   "cell_type": "code",
   "execution_count": null,
   "metadata": {},
   "outputs": [],
   "source": []
  }
 ],
 "metadata": {
  "kernelspec": {
   "display_name": "base",
   "language": "python",
   "name": "python3"
  },
  "language_info": {
   "codemirror_mode": {
    "name": "ipython",
    "version": 3
   },
   "file_extension": ".py",
   "mimetype": "text/x-python",
   "name": "python",
   "nbconvert_exporter": "python",
   "pygments_lexer": "ipython3",
   "version": "3.12.3"
  }
 },
 "nbformat": 4,
 "nbformat_minor": 2
}
